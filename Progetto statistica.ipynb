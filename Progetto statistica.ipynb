{
 "cells": [
  {
   "cell_type": "markdown",
   "metadata": {},
   "source": [
    "# Analisi percorso lavorativo studenti"
   ]
  },
  {
   "cell_type": "markdown",
   "metadata": {},
   "source": [
    "### Caricamento dati e selezione variabili interessanti"
   ]
  },
  {
   "cell_type": "code",
   "execution_count": 36,
   "metadata": {},
   "outputs": [
    {
     "data": {
      "text/html": [
       "<table>\n",
       "<thead><tr><th scope=col>progr</th><th scope=col>V0_5</th><th scope=col>CITTAD</th><th scope=col>V0_3_MICRO</th><th scope=col>V0_4</th><th scope=col>ETA_DIPLO_MFR</th><th scope=col>scuola_pubblica</th><th scope=col>V0_8</th><th scope=col>V0_9</th><th scope=col>V1_1</th><th scope=col>...</th><th scope=col>V6_7</th><th scope=col>V6_8</th><th scope=col>V6_9</th><th scope=col>V6_10</th><th scope=col>V6_11</th><th scope=col>V6_12</th><th scope=col>V6_13</th><th scope=col>V6_14</th><th scope=col>coeff</th><th scope=col>mesi_dip_int</th></tr></thead>\n",
       "<tbody>\n",
       "\t<tr><td>38566    </td><td>1        </td><td>1        </td><td>NA       </td><td> 1       </td><td>1        </td><td>1        </td><td>64       </td><td>5        </td><td>1        </td><td>...      </td><td>1        </td><td> 2       </td><td>NA       </td><td>3        </td><td>1        </td><td> 1       </td><td> 2       </td><td>NA       </td><td> 8.987902</td><td>51       </td></tr>\n",
       "\t<tr><td>58089    </td><td>1        </td><td>1        </td><td>NA       </td><td>NA       </td><td>1        </td><td>1        </td><td>73       </td><td>2        </td><td>2        </td><td>...      </td><td>1        </td><td> 2       </td><td>NA       </td><td>3        </td><td>3        </td><td>NA       </td><td>NA       </td><td>NA       </td><td> 6.248402</td><td>47       </td></tr>\n",
       "\t<tr><td>10262    </td><td>1        </td><td>1        </td><td> 4       </td><td>NA       </td><td>1        </td><td>1        </td><td>69       </td><td>2        </td><td>2        </td><td>...      </td><td>1        </td><td> 2       </td><td>NA       </td><td>4        </td><td>1        </td><td> 3       </td><td>NA       </td><td>NA       </td><td>35.726681</td><td>51       </td></tr>\n",
       "\t<tr><td>15877    </td><td>1        </td><td>1        </td><td> 4       </td><td>NA       </td><td>1        </td><td>0        </td><td>73       </td><td>2        </td><td>1        </td><td>...      </td><td>1        </td><td> 3       </td><td>NA       </td><td>2        </td><td>1        </td><td> 1       </td><td> 4       </td><td>NA       </td><td> 2.656289</td><td>47       </td></tr>\n",
       "\t<tr><td>16542    </td><td>1        </td><td>1        </td><td> 7       </td><td> 1       </td><td>1        </td><td>1        </td><td>90       </td><td>5        </td><td>2        </td><td>...      </td><td>2        </td><td>NA       </td><td> 2       </td><td>2        </td><td>3        </td><td>NA       </td><td>NA       </td><td>NA       </td><td>23.093444</td><td>51       </td></tr>\n",
       "\t<tr><td>16657    </td><td>1        </td><td>1        </td><td> 7       </td><td> 2       </td><td>1        </td><td>1        </td><td>72       </td><td>5        </td><td>2        </td><td>...      </td><td>1        </td><td> 5       </td><td>NA       </td><td>3        </td><td>1        </td><td> 1       </td><td> 3       </td><td>NA       </td><td> 7.596227</td><td>50       </td></tr>\n",
       "</tbody>\n",
       "</table>\n"
      ],
      "text/latex": [
       "\\begin{tabular}{r|lllllllllllllllllllllllllllllllllllllllllllllllllllllllllllllllllllllllllllllllllllllllllllllllllllllllllllllllllllllllllllllllllllllllllllllllllllllllllllllllll}\n",
       " progr & V0\\_5 & CITTAD & V0\\_3\\_MICRO & V0\\_4 & ETA\\_DIPLO\\_MFR & scuola\\_pubblica & V0\\_8 & V0\\_9 & V1\\_1 & ... & V6\\_7 & V6\\_8 & V6\\_9 & V6\\_10 & V6\\_11 & V6\\_12 & V6\\_13 & V6\\_14 & coeff & mesi\\_dip\\_int\\\\\n",
       "\\hline\n",
       "\t 38566     & 1         & 1         & NA        &  1        & 1         & 1         & 64        & 5         & 1         & ...       & 1         &  2        & NA        & 3         & 1         &  1        &  2        & NA        &  8.987902 & 51       \\\\\n",
       "\t 58089     & 1         & 1         & NA        & NA        & 1         & 1         & 73        & 2         & 2         & ...       & 1         &  2        & NA        & 3         & 3         & NA        & NA        & NA        &  6.248402 & 47       \\\\\n",
       "\t 10262     & 1         & 1         &  4        & NA        & 1         & 1         & 69        & 2         & 2         & ...       & 1         &  2        & NA        & 4         & 1         &  3        & NA        & NA        & 35.726681 & 51       \\\\\n",
       "\t 15877     & 1         & 1         &  4        & NA        & 1         & 0         & 73        & 2         & 1         & ...       & 1         &  3        & NA        & 2         & 1         &  1        &  4        & NA        &  2.656289 & 47       \\\\\n",
       "\t 16542     & 1         & 1         &  7        &  1        & 1         & 1         & 90        & 5         & 2         & ...       & 2         & NA        &  2        & 2         & 3         & NA        & NA        & NA        & 23.093444 & 51       \\\\\n",
       "\t 16657     & 1         & 1         &  7        &  2        & 1         & 1         & 72        & 5         & 2         & ...       & 1         &  5        & NA        & 3         & 1         &  1        &  3        & NA        &  7.596227 & 50       \\\\\n",
       "\\end{tabular}\n"
      ],
      "text/markdown": [
       "\n",
       "| progr | V0_5 | CITTAD | V0_3_MICRO | V0_4 | ETA_DIPLO_MFR | scuola_pubblica | V0_8 | V0_9 | V1_1 | ... | V6_7 | V6_8 | V6_9 | V6_10 | V6_11 | V6_12 | V6_13 | V6_14 | coeff | mesi_dip_int |\n",
       "|---|---|---|---|---|---|---|---|---|---|---|---|---|---|---|---|---|---|---|---|---|\n",
       "| 38566     | 1         | 1         | NA        |  1        | 1         | 1         | 64        | 5         | 1         | ...       | 1         |  2        | NA        | 3         | 1         |  1        |  2        | NA        |  8.987902 | 51        |\n",
       "| 58089     | 1         | 1         | NA        | NA        | 1         | 1         | 73        | 2         | 2         | ...       | 1         |  2        | NA        | 3         | 3         | NA        | NA        | NA        |  6.248402 | 47        |\n",
       "| 10262     | 1         | 1         |  4        | NA        | 1         | 1         | 69        | 2         | 2         | ...       | 1         |  2        | NA        | 4         | 1         |  3        | NA        | NA        | 35.726681 | 51        |\n",
       "| 15877     | 1         | 1         |  4        | NA        | 1         | 0         | 73        | 2         | 1         | ...       | 1         |  3        | NA        | 2         | 1         |  1        |  4        | NA        |  2.656289 | 47        |\n",
       "| 16542     | 1         | 1         |  7        |  1        | 1         | 1         | 90        | 5         | 2         | ...       | 2         | NA        |  2        | 2         | 3         | NA        | NA        | NA        | 23.093444 | 51        |\n",
       "| 16657     | 1         | 1         |  7        |  2        | 1         | 1         | 72        | 5         | 2         | ...       | 1         |  5        | NA        | 3         | 1         |  1        |  3        | NA        |  7.596227 | 50        |\n",
       "\n"
      ],
      "text/plain": [
       "  progr V0_5 CITTAD V0_3_MICRO V0_4 ETA_DIPLO_MFR scuola_pubblica V0_8 V0_9\n",
       "1 38566 1    1      NA          1   1             1               64   5   \n",
       "2 58089 1    1      NA         NA   1             1               73   2   \n",
       "3 10262 1    1       4         NA   1             1               69   2   \n",
       "4 15877 1    1       4         NA   1             0               73   2   \n",
       "5 16542 1    1       7          1   1             1               90   5   \n",
       "6 16657 1    1       7          2   1             1               72   5   \n",
       "  V1_1 ... V6_7 V6_8 V6_9 V6_10 V6_11 V6_12 V6_13 V6_14 coeff     mesi_dip_int\n",
       "1 1    ... 1     2   NA   3     1      1     2    NA     8.987902 51          \n",
       "2 2    ... 1     2   NA   3     3     NA    NA    NA     6.248402 47          \n",
       "3 2    ... 1     2   NA   4     1      3    NA    NA    35.726681 51          \n",
       "4 1    ... 1     3   NA   2     1      1     4    NA     2.656289 47          \n",
       "5 2    ... 2    NA    2   2     3     NA    NA    NA    23.093444 51          \n",
       "6 2    ... 1     5   NA   3     1      1     3    NA     7.596227 50          "
      ]
     },
     "metadata": {},
     "output_type": "display_data"
    }
   ],
   "source": [
    "tab <- read.table('GEPPS_Microdati_Anno_2015.txt', sep = '\\t', header = TRUE)\n",
    "head(tab)"
   ]
  },
  {
   "cell_type": "code",
   "execution_count": 111,
   "metadata": {},
   "outputs": [],
   "source": [
    "filtered_table <- tab[c('V0_5', 'CITTAD','scuola_pubblica', 'V0_8','V3_3', 'V3_12','V3_17', 'V3_19', 'V3_23', 'V4_4_MICRO', 'V4_5_MICRO', 'V4_23','RED_PRI_MFR', 'V4_38', 'V6_5', 'V6_10')]"
   ]
  },
  {
   "cell_type": "code",
   "execution_count": 112,
   "metadata": {},
   "outputs": [],
   "source": [
    "names(filtered_table)<- c('sesso', 'cittadinanza', 'scuola_pubblica', 'voto_diploma', 'iscrizione_universita', 'tipo_di_corso', 'area_disciplinare', 'frequenza_lezioni', 'corso_desiderato','posizione_dipendente', 'posizione_autonomo', 'ore_settimanali', 'reddito_mensile', 'soddisfazione_lavoro', 'titolo_padre', 'titolo_madre')"
   ]
  },
  {
   "cell_type": "code",
   "execution_count": 113,
   "metadata": {
    "scrolled": false
   },
   "outputs": [
    {
     "data": {
      "text/html": [
       "<table>\n",
       "<thead><tr><th scope=col>sesso</th><th scope=col>cittadinanza</th><th scope=col>scuola_pubblica</th><th scope=col>voto_diploma</th><th scope=col>iscrizione_universita</th><th scope=col>tipo_di_corso</th><th scope=col>area_disciplinare</th><th scope=col>frequenza_lezioni</th><th scope=col>corso_desiderato</th><th scope=col>posizione_dipendente</th><th scope=col>posizione_autonomo</th><th scope=col>ore_settimanali</th><th scope=col>reddito_mensile</th><th scope=col>soddisfazione_lavoro</th><th scope=col>titolo_padre</th><th scope=col>titolo_madre</th></tr></thead>\n",
       "<tbody>\n",
       "\t<tr><td>1   </td><td>1   </td><td>1   </td><td>64  </td><td>1   </td><td> 3  </td><td>16  </td><td> 2  </td><td> 1  </td><td>NA  </td><td>NA  </td><td>NA  </td><td>  NA</td><td>NA  </td><td>2   </td><td>3   </td></tr>\n",
       "\t<tr><td>1   </td><td>1   </td><td>1   </td><td>73  </td><td>1   </td><td> 1  </td><td>16  </td><td> 1  </td><td> 1  </td><td>NA  </td><td>NA  </td><td>NA  </td><td>  NA</td><td>NA  </td><td>3   </td><td>3   </td></tr>\n",
       "\t<tr><td>1   </td><td>1   </td><td>1   </td><td>69  </td><td>1   </td><td> 1  </td><td> 9  </td><td> 1  </td><td> 1  </td><td>NA  </td><td>NA  </td><td>NA  </td><td>  NA</td><td>NA  </td><td>5   </td><td>4   </td></tr>\n",
       "\t<tr><td>1   </td><td>1   </td><td>0   </td><td>73  </td><td>1   </td><td> 1  </td><td>13  </td><td> 3  </td><td> 2  </td><td> 5  </td><td>NA  </td><td>48  </td><td>1300</td><td> 6  </td><td>3   </td><td>2   </td></tr>\n",
       "\t<tr><td>1   </td><td>1   </td><td>1   </td><td>90  </td><td>2   </td><td>NA  </td><td>NA  </td><td>NA  </td><td>NA  </td><td>NA  </td><td>NA  </td><td>NA  </td><td>  NA</td><td>NA  </td><td>3   </td><td>2   </td></tr>\n",
       "\t<tr><td>1   </td><td>1   </td><td>1   </td><td>72  </td><td>2   </td><td>NA  </td><td>NA  </td><td>NA  </td><td>NA  </td><td>NA  </td><td>NA  </td><td>NA  </td><td>  NA</td><td>NA  </td><td>5   </td><td>3   </td></tr>\n",
       "</tbody>\n",
       "</table>\n"
      ],
      "text/latex": [
       "\\begin{tabular}{r|llllllllllllllll}\n",
       " sesso & cittadinanza & scuola\\_pubblica & voto\\_diploma & iscrizione\\_universita & tipo\\_di\\_corso & area\\_disciplinare & frequenza\\_lezioni & corso\\_desiderato & posizione\\_dipendente & posizione\\_autonomo & ore\\_settimanali & reddito\\_mensile & soddisfazione\\_lavoro & titolo\\_padre & titolo\\_madre\\\\\n",
       "\\hline\n",
       "\t 1    & 1    & 1    & 64   & 1    &  3   & 16   &  2   &  1   & NA   & NA   & NA   &   NA & NA   & 2    & 3   \\\\\n",
       "\t 1    & 1    & 1    & 73   & 1    &  1   & 16   &  1   &  1   & NA   & NA   & NA   &   NA & NA   & 3    & 3   \\\\\n",
       "\t 1    & 1    & 1    & 69   & 1    &  1   &  9   &  1   &  1   & NA   & NA   & NA   &   NA & NA   & 5    & 4   \\\\\n",
       "\t 1    & 1    & 0    & 73   & 1    &  1   & 13   &  3   &  2   &  5   & NA   & 48   & 1300 &  6   & 3    & 2   \\\\\n",
       "\t 1    & 1    & 1    & 90   & 2    & NA   & NA   & NA   & NA   & NA   & NA   & NA   &   NA & NA   & 3    & 2   \\\\\n",
       "\t 1    & 1    & 1    & 72   & 2    & NA   & NA   & NA   & NA   & NA   & NA   & NA   &   NA & NA   & 5    & 3   \\\\\n",
       "\\end{tabular}\n"
      ],
      "text/markdown": [
       "\n",
       "| sesso | cittadinanza | scuola_pubblica | voto_diploma | iscrizione_universita | tipo_di_corso | area_disciplinare | frequenza_lezioni | corso_desiderato | posizione_dipendente | posizione_autonomo | ore_settimanali | reddito_mensile | soddisfazione_lavoro | titolo_padre | titolo_madre |\n",
       "|---|---|---|---|---|---|---|---|---|---|---|---|---|---|---|---|\n",
       "| 1    | 1    | 1    | 64   | 1    |  3   | 16   |  2   |  1   | NA   | NA   | NA   |   NA | NA   | 2    | 3    |\n",
       "| 1    | 1    | 1    | 73   | 1    |  1   | 16   |  1   |  1   | NA   | NA   | NA   |   NA | NA   | 3    | 3    |\n",
       "| 1    | 1    | 1    | 69   | 1    |  1   |  9   |  1   |  1   | NA   | NA   | NA   |   NA | NA   | 5    | 4    |\n",
       "| 1    | 1    | 0    | 73   | 1    |  1   | 13   |  3   |  2   |  5   | NA   | 48   | 1300 |  6   | 3    | 2    |\n",
       "| 1    | 1    | 1    | 90   | 2    | NA   | NA   | NA   | NA   | NA   | NA   | NA   |   NA | NA   | 3    | 2    |\n",
       "| 1    | 1    | 1    | 72   | 2    | NA   | NA   | NA   | NA   | NA   | NA   | NA   |   NA | NA   | 5    | 3    |\n",
       "\n"
      ],
      "text/plain": [
       "  sesso cittadinanza scuola_pubblica voto_diploma iscrizione_universita\n",
       "1 1     1            1               64           1                    \n",
       "2 1     1            1               73           1                    \n",
       "3 1     1            1               69           1                    \n",
       "4 1     1            0               73           1                    \n",
       "5 1     1            1               90           2                    \n",
       "6 1     1            1               72           2                    \n",
       "  tipo_di_corso area_disciplinare frequenza_lezioni corso_desiderato\n",
       "1  3            16                 2                 1              \n",
       "2  1            16                 1                 1              \n",
       "3  1             9                 1                 1              \n",
       "4  1            13                 3                 2              \n",
       "5 NA            NA                NA                NA              \n",
       "6 NA            NA                NA                NA              \n",
       "  posizione_dipendente posizione_autonomo ore_settimanali reddito_mensile\n",
       "1 NA                   NA                 NA                NA           \n",
       "2 NA                   NA                 NA                NA           \n",
       "3 NA                   NA                 NA                NA           \n",
       "4  5                   NA                 48              1300           \n",
       "5 NA                   NA                 NA                NA           \n",
       "6 NA                   NA                 NA                NA           \n",
       "  soddisfazione_lavoro titolo_padre titolo_madre\n",
       "1 NA                   2            3           \n",
       "2 NA                   3            3           \n",
       "3 NA                   5            4           \n",
       "4  6                   3            2           \n",
       "5 NA                   3            2           \n",
       "6 NA                   5            3           "
      ]
     },
     "metadata": {},
     "output_type": "display_data"
    }
   ],
   "source": [
    "head(filtered_table)"
   ]
  },
  {
   "cell_type": "code",
   "execution_count": 83,
   "metadata": {},
   "outputs": [],
   "source": [
    "filtered_table$sesso <- factor(filtered_table$sesso)\n",
    "levels(filtered_table$sesso) <- c('maschio', 'femmina')"
   ]
  },
  {
   "cell_type": "code",
   "execution_count": 116,
   "metadata": {},
   "outputs": [],
   "source": [
    "filtered_table$corso_desiderato <- factor(filtered_table$corso_desiderato)\n",
    "levels(filtered_table$corso_desiderato) <- c('si','no')"
   ]
  },
  {
   "cell_type": "code",
   "execution_count": 124,
   "metadata": {},
   "outputs": [],
   "source": [
    "filtered_table$reddito_mensile <- as.numeric(filtered_table$reddito_mensile)"
   ]
  },
  {
   "cell_type": "code",
   "execution_count": 82,
   "metadata": {},
   "outputs": [
    {
     "data": {
      "text/html": [
       "<table>\n",
       "<thead><tr><th scope=col>sesso</th><th scope=col>cittadinanza</th><th scope=col>scuola_pubblica</th><th scope=col>voto_diploma</th><th scope=col>iscrizione_universita</th><th scope=col>tipo_di_corso</th><th scope=col>area_disciplinare</th><th scope=col>frequenza_lezioni</th><th scope=col>posizione_dipendente</th><th scope=col>posizione_autonomo</th><th scope=col>ore_settimanali</th><th scope=col>reddito_mensile</th><th scope=col>soddisfazione_lavoro</th><th scope=col>titolo_padre</th><th scope=col>titolo_madre</th></tr></thead>\n",
       "<tbody>\n",
       "\t<tr><td>maschio</td><td>1      </td><td>1      </td><td>64     </td><td>1      </td><td> 3     </td><td>16     </td><td> 2     </td><td>NA     </td><td>NA     </td><td>NA     </td><td>  NA   </td><td>NA     </td><td>2      </td><td>3      </td></tr>\n",
       "\t<tr><td>maschio</td><td>1      </td><td>1      </td><td>73     </td><td>1      </td><td> 1     </td><td>16     </td><td> 1     </td><td>NA     </td><td>NA     </td><td>NA     </td><td>  NA   </td><td>NA     </td><td>3      </td><td>3      </td></tr>\n",
       "\t<tr><td>maschio</td><td>1      </td><td>1      </td><td>69     </td><td>1      </td><td> 1     </td><td> 9     </td><td> 1     </td><td>NA     </td><td>NA     </td><td>NA     </td><td>  NA   </td><td>NA     </td><td>5      </td><td>4      </td></tr>\n",
       "\t<tr><td>maschio</td><td>1      </td><td>0      </td><td>73     </td><td>1      </td><td> 1     </td><td>13     </td><td> 3     </td><td> 5     </td><td>NA     </td><td>48     </td><td>1300   </td><td> 6     </td><td>3      </td><td>2      </td></tr>\n",
       "\t<tr><td>maschio</td><td>1      </td><td>1      </td><td>90     </td><td>2      </td><td>NA     </td><td>NA     </td><td>NA     </td><td>NA     </td><td>NA     </td><td>NA     </td><td>  NA   </td><td>NA     </td><td>3      </td><td>2      </td></tr>\n",
       "\t<tr><td>maschio</td><td>1      </td><td>1      </td><td>72     </td><td>2      </td><td>NA     </td><td>NA     </td><td>NA     </td><td>NA     </td><td>NA     </td><td>NA     </td><td>  NA   </td><td>NA     </td><td>5      </td><td>3      </td></tr>\n",
       "</tbody>\n",
       "</table>\n"
      ],
      "text/latex": [
       "\\begin{tabular}{r|lllllllllllllll}\n",
       " sesso & cittadinanza & scuola\\_pubblica & voto\\_diploma & iscrizione\\_universita & tipo\\_di\\_corso & area\\_disciplinare & frequenza\\_lezioni & posizione\\_dipendente & posizione\\_autonomo & ore\\_settimanali & reddito\\_mensile & soddisfazione\\_lavoro & titolo\\_padre & titolo\\_madre\\\\\n",
       "\\hline\n",
       "\t maschio & 1       & 1       & 64      & 1       &  3      & 16      &  2      & NA      & NA      & NA      &   NA    & NA      & 2       & 3      \\\\\n",
       "\t maschio & 1       & 1       & 73      & 1       &  1      & 16      &  1      & NA      & NA      & NA      &   NA    & NA      & 3       & 3      \\\\\n",
       "\t maschio & 1       & 1       & 69      & 1       &  1      &  9      &  1      & NA      & NA      & NA      &   NA    & NA      & 5       & 4      \\\\\n",
       "\t maschio & 1       & 0       & 73      & 1       &  1      & 13      &  3      &  5      & NA      & 48      & 1300    &  6      & 3       & 2      \\\\\n",
       "\t maschio & 1       & 1       & 90      & 2       & NA      & NA      & NA      & NA      & NA      & NA      &   NA    & NA      & 3       & 2      \\\\\n",
       "\t maschio & 1       & 1       & 72      & 2       & NA      & NA      & NA      & NA      & NA      & NA      &   NA    & NA      & 5       & 3      \\\\\n",
       "\\end{tabular}\n"
      ],
      "text/markdown": [
       "\n",
       "| sesso | cittadinanza | scuola_pubblica | voto_diploma | iscrizione_universita | tipo_di_corso | area_disciplinare | frequenza_lezioni | posizione_dipendente | posizione_autonomo | ore_settimanali | reddito_mensile | soddisfazione_lavoro | titolo_padre | titolo_madre |\n",
       "|---|---|---|---|---|---|---|---|---|---|---|---|---|---|---|\n",
       "| maschio | 1       | 1       | 64      | 1       |  3      | 16      |  2      | NA      | NA      | NA      |   NA    | NA      | 2       | 3       |\n",
       "| maschio | 1       | 1       | 73      | 1       |  1      | 16      |  1      | NA      | NA      | NA      |   NA    | NA      | 3       | 3       |\n",
       "| maschio | 1       | 1       | 69      | 1       |  1      |  9      |  1      | NA      | NA      | NA      |   NA    | NA      | 5       | 4       |\n",
       "| maschio | 1       | 0       | 73      | 1       |  1      | 13      |  3      |  5      | NA      | 48      | 1300    |  6      | 3       | 2       |\n",
       "| maschio | 1       | 1       | 90      | 2       | NA      | NA      | NA      | NA      | NA      | NA      |   NA    | NA      | 3       | 2       |\n",
       "| maschio | 1       | 1       | 72      | 2       | NA      | NA      | NA      | NA      | NA      | NA      |   NA    | NA      | 5       | 3       |\n",
       "\n"
      ],
      "text/plain": [
       "  sesso   cittadinanza scuola_pubblica voto_diploma iscrizione_universita\n",
       "1 maschio 1            1               64           1                    \n",
       "2 maschio 1            1               73           1                    \n",
       "3 maschio 1            1               69           1                    \n",
       "4 maschio 1            0               73           1                    \n",
       "5 maschio 1            1               90           2                    \n",
       "6 maschio 1            1               72           2                    \n",
       "  tipo_di_corso area_disciplinare frequenza_lezioni posizione_dipendente\n",
       "1  3            16                 2                NA                  \n",
       "2  1            16                 1                NA                  \n",
       "3  1             9                 1                NA                  \n",
       "4  1            13                 3                 5                  \n",
       "5 NA            NA                NA                NA                  \n",
       "6 NA            NA                NA                NA                  \n",
       "  posizione_autonomo ore_settimanali reddito_mensile soddisfazione_lavoro\n",
       "1 NA                 NA                NA            NA                  \n",
       "2 NA                 NA                NA            NA                  \n",
       "3 NA                 NA                NA            NA                  \n",
       "4 NA                 48              1300             6                  \n",
       "5 NA                 NA                NA            NA                  \n",
       "6 NA                 NA                NA            NA                  \n",
       "  titolo_padre titolo_madre\n",
       "1 2            3           \n",
       "2 3            3           \n",
       "3 5            4           \n",
       "4 3            2           \n",
       "5 3            2           \n",
       "6 5            3           "
      ]
     },
     "metadata": {},
     "output_type": "display_data"
    }
   ],
   "source": [
    "head(filtered_table)"
   ]
  },
  {
   "cell_type": "markdown",
   "metadata": {},
   "source": [
    "### Un po' di stime a caso sul voto di diploma"
   ]
  },
  {
   "cell_type": "code",
   "execution_count": 175,
   "metadata": {},
   "outputs": [
    {
     "data": {
      "text/html": [
       "75.6643300620869"
      ],
      "text/latex": [
       "75.6643300620869"
      ],
      "text/markdown": [
       "75.6643300620869"
      ],
      "text/plain": [
       "[1] 75.66433"
      ]
     },
     "metadata": {},
     "output_type": "display_data"
    },
    {
     "data": {
      "text/html": [
       "73.4023622047244"
      ],
      "text/latex": [
       "73.4023622047244"
      ],
      "text/markdown": [
       "73.4023622047244"
      ],
      "text/plain": [
       "[1] 73.40236"
      ]
     },
     "metadata": {},
     "output_type": "display_data"
    },
    {
     "data": {
      "text/html": [
       "2.14907210972984"
      ],
      "text/latex": [
       "2.14907210972984"
      ],
      "text/markdown": [
       "2.14907210972984"
      ],
      "text/plain": [
       "[1] 2.149072"
      ]
     },
     "metadata": {},
     "output_type": "display_data"
    },
    {
     "data": {
      "text/html": [
       "2.05318653235693"
      ],
      "text/latex": [
       "2.05318653235693"
      ],
      "text/markdown": [
       "2.05318653235693"
      ],
      "text/plain": [
       "[1] 2.053187"
      ]
     },
     "metadata": {},
     "output_type": "display_data"
    }
   ],
   "source": [
    "m1 = mean(filtered_table[filtered_table$scuola_pubblica == 1,'voto_diploma'])\n",
    "m1\n",
    "m2 = mean(filtered_table[filtered_table$scuola_pubblica == 0,'voto_diploma'])\n",
    "m2\n",
    "sd1 = sd(filtered_table[filtered_table$scuola_pubblica == 1,'voto_diploma'])/length(filtered_table[filtered_table$scuola_pubblica == 1,])\n",
    "sd2 = sd(filtered_table[filtered_table$scuola_pubblica == 0,'voto_diploma'])/length(filtered_table[filtered_table$scuola_pubblica == 0,])\n",
    "sd1*3\n",
    "sd2*3"
   ]
  },
  {
   "cell_type": "markdown",
   "metadata": {},
   "source": [
    "Stime con intervalli a 3$\\sigma$ di CL: $75.66 \\pm 2.15$ e $73.42 \\pm 2.05$"
   ]
  },
  {
   "cell_type": "code",
   "execution_count": 180,
   "metadata": {},
   "outputs": [
    {
     "data": {
      "text/html": [
       "0.0531745240614407"
      ],
      "text/latex": [
       "0.0531745240614407"
      ],
      "text/markdown": [
       "0.0531745240614407"
      ],
      "text/plain": [
       "[1] 0.05317452"
      ]
     },
     "metadata": {},
     "output_type": "display_data"
    }
   ],
   "source": [
    "z = (m1-m2)/sqrt(sd1 + sd2)\n",
    "1-pnorm(z, 0, sqrt(sd1 + sd2))"
   ]
  },
  {
   "cell_type": "markdown",
   "metadata": {},
   "source": [
    "L'ipotesi di medie uguali non può essere rifiutata con una significatività del 10%. Questo porta concludere che statisticamente non i dati non sono sufficienti per rifiutare l'ipotesi nulla..."
   ]
  },
  {
   "cell_type": "markdown",
   "metadata": {},
   "source": [
    "Una differenza anche tra i voti in base al sesso"
   ]
  },
  {
   "cell_type": "code",
   "execution_count": 62,
   "metadata": {},
   "outputs": [
    {
     "data": {
      "text/html": [
       "73.6624839948784"
      ],
      "text/latex": [
       "73.6624839948784"
      ],
      "text/markdown": [
       "73.6624839948784"
      ],
      "text/plain": [
       "[1] 73.66248"
      ]
     },
     "metadata": {},
     "output_type": "display_data"
    },
    {
     "data": {
      "text/html": [
       "77.0816115702479"
      ],
      "text/latex": [
       "77.0816115702479"
      ],
      "text/markdown": [
       "77.0816115702479"
      ],
      "text/plain": [
       "[1] 77.08161"
      ]
     },
     "metadata": {},
     "output_type": "display_data"
    }
   ],
   "source": [
    "mean(filtered_table[filtered_table$sesso == 1,'voto_diploma'])\n",
    "mean(filtered_table[filtered_table$sesso == 2,'voto_diploma'])"
   ]
  },
  {
   "cell_type": "markdown",
   "metadata": {},
   "source": [
    "Anche il blox plot conferma una distribuzione dei valori sostanzialmente paritaria tra le due condizioni"
   ]
  },
  {
   "cell_type": "code",
   "execution_count": 166,
   "metadata": {},
   "outputs": [
    {
     "data": {
      "image/png": "[encoded data removed]",
      "text/plain": [
       "plot without title"
      ]
     },
     "metadata": {},
     "output_type": "display_data"
    },
    {
     "data": {
      "image/png": "[encoded data removed]",
      "text/plain": [
       "plot without title"
      ]
     },
     "metadata": {},
     "output_type": "display_data"
    }
   ],
   "source": [
    "boxplot(filtered_table[filtered_table$sesso == 1,'voto_diploma'])\n",
    "boxplot(filtered_table[filtered_table$sesso == 2,'voto_diploma'])"
   ]
  },
  {
   "cell_type": "markdown",
   "metadata": {},
   "source": [
    "### Vediamo se l'istruzione dei genitori ha una certa influenza sui risultati dei figli"
   ]
  },
  {
   "cell_type": "code",
   "execution_count": 89,
   "metadata": {},
   "outputs": [
    {
     "data": {
      "text/plain": [
       "Number of cases in table: 26235 \n",
       "Number of factors: 2 \n",
       "Test for independence of all factors:\n",
       "\tChisq = 63.68, df = 5, p-value = 2.107e-12"
      ]
     },
     "metadata": {},
     "output_type": "display_data"
    },
    {
     "data": {
      "text/plain": [
       "Number of cases in table: 26235 \n",
       "Number of factors: 2 \n",
       "Test for independence of all factors:\n",
       "\tChisq = 124.19, df = 5, p-value = 4.073e-25"
      ]
     },
     "metadata": {},
     "output_type": "display_data"
    }
   ],
   "source": [
    "summary(table(filtered_table$titolo_madre, filtered_table$scuola_pubblica))\n",
    "summary(table(filtered_table$titolo_padre, filtered_table$scuola_pubblica))"
   ]
  },
  {
   "cell_type": "code",
   "execution_count": 90,
   "metadata": {},
   "outputs": [
    {
     "data": {
      "text/plain": [
       "Number of cases in table: 26235 \n",
       "Number of factors: 2 \n",
       "Test for independence of all factors:\n",
       "\tChisq = 919.5, df = 205, p-value = 5.066e-91\n",
       "\tChi-squared approximation may be incorrect"
      ]
     },
     "metadata": {},
     "output_type": "display_data"
    },
    {
     "data": {
      "text/plain": [
       "Number of cases in table: 26235 \n",
       "Number of factors: 2 \n",
       "Test for independence of all factors:\n",
       "\tChisq = 863.7, df = 205, p-value = 1.196e-81\n",
       "\tChi-squared approximation may be incorrect"
      ]
     },
     "metadata": {},
     "output_type": "display_data"
    }
   ],
   "source": [
    "summary(table(filtered_table$titolo_madre, filtered_table$voto_diploma))\n",
    "summary(table(filtered_table$titolo_padre, filtered_table$voto_diploma))"
   ]
  },
  {
   "cell_type": "markdown",
   "metadata": {},
   "source": [
    "I p-value confermano, come atteso, una forte dipendenza tra la scolarizzazione dei genitori ed il voto di diploma dei figli, indipendentemente se quella del padre o della madre. Visualizziamolo con un boxplot"
   ]
  },
  {
   "cell_type": "code",
   "execution_count": 97,
   "metadata": {},
   "outputs": [
    {
     "data": {
      "image/png": "[encoded data removed]",
      "text/plain": [
       "plot without title"
      ]
     },
     "metadata": {},
     "output_type": "display_data"
    }
   ],
   "source": [
    "boxplot(filtered_table$voto_diploma~filtered_table$titolo_padre, xlab = 'Titolo di studio', ylab = 'Voto di diploma')"
   ]
  },
  {
   "cell_type": "code",
   "execution_count": 98,
   "metadata": {},
   "outputs": [
    {
     "data": {
      "image/png": "[encoded data removed]",
      "text/plain": [
       "plot without title"
      ]
     },
     "metadata": {},
     "output_type": "display_data"
    }
   ],
   "source": [
    "boxplot(filtered_table$voto_diploma~filtered_table$titolo_madre, xlab = 'Titolo di studio', ylab = 'Voto di diploma')"
   ]
  },
  {
   "cell_type": "markdown",
   "metadata": {},
   "source": [
    "L'andamento dei boxplot è analogo indipendentemente dal sesso del genitore. Il caso '6' indica un missing value e quindi di poco interesse."
   ]
  },
  {
   "cell_type": "markdown",
   "metadata": {},
   "source": [
    "Vediamo ora se è legata anche all'iscrizione universitaria"
   ]
  },
  {
   "cell_type": "code",
   "execution_count": 110,
   "metadata": {},
   "outputs": [
    {
     "data": {
      "text/plain": [
       "Number of cases in table: 26235 \n",
       "Number of factors: 2 \n",
       "Test for independence of all factors:\n",
       "\tChisq = 2243.1, df = 5, p-value = 0"
      ]
     },
     "metadata": {},
     "output_type": "display_data"
    }
   ],
   "source": [
    "summary(table(filtered_table$iscrizione_universita,filtered_table$titolo_padre))"
   ]
  },
  {
   "cell_type": "markdown",
   "metadata": {},
   "source": [
    "La situazione di indipendenza è rifiutabile con una significatività pressoché nulla e difatti è osservabile anche nel box plot seguente come ci sia una maggiore percentuale di iscritti in università"
   ]
  },
  {
   "cell_type": "code",
   "execution_count": 108,
   "metadata": {},
   "outputs": [
    {
     "data": {
      "image/png": "[encoded data removed]",
      "text/plain": [
       "plot without title"
      ]
     },
     "metadata": {},
     "output_type": "display_data"
    }
   ],
   "source": [
    "barplot(table(filtered_table$iscrizione_universita,filtered_table$titolo_padre), beside = TRUE)"
   ]
  },
  {
   "cell_type": "code",
   "execution_count": 114,
   "metadata": {},
   "outputs": [
    {
     "data": {
      "image/png": "[encoded data removed]",
      "text/plain": [
       "plot without title"
      ]
     },
     "metadata": {},
     "output_type": "display_data"
    }
   ],
   "source": [
    "barplot(table(filtered_table$iscrizione_universita,filtered_table$titolo_madre), beside = TRUE)"
   ]
  }
 ],
 "metadata": {
  "kernelspec": {
   "display_name": "R",
   "language": "R",
   "name": "ir"
  },
  "language_info": {
   "codemirror_mode": "r",
   "file_extension": ".r",
   "mimetype": "text/x-r-source",
   "name": "R",
   "pygments_lexer": "r",
   "version": "3.6.1"
  }
 },
 "nbformat": 4,
 "nbformat_minor": 4
}
